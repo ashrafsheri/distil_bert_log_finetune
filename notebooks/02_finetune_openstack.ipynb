{
 "cells": [
  {
   "cell_type": "markdown",
   "id": "e6f5a838",
   "metadata": {},
   "source": [
    "# 02 · Fine-tune DistilBERT on OpenStack Logs\n",
    "\n",
    "A compact notebook that loads the pre-trained HDFS checkpoint, fine-tunes it on OpenStack logs with optional replay samples, and evaluates the resulting anomaly detector."
   ]
  },
  {
   "cell_type": "markdown",
   "id": "416651af",
   "metadata": {},
   "source": [
    "## Pipeline Overview\n",
    "\n",
    "1. Load configuration plus OpenStack train/validation/test splits (with optional HDFS replay).\n",
    "2. Instantiate tokenizer, recover the latest HDFS checkpoint, and resize embeddings.\n",
    "3. Build DataLoaders with an MLM collator that masks tokens consistently.\n",
    "4. Train with `accelerate`, cosine schedule, and early stopping on validation loss.\n",
    "5. Calibrate a loss-based anomaly threshold on the validation set and score the test set.\n",
    "6. Persist checkpoints, metrics, and visual diagnostics under `artifacts/`."
   ]
  },
  {
   "cell_type": "markdown",
   "id": "68c6452c",
   "metadata": {},
   "source": []
  },
  {
   "cell_type": "code",
   "execution_count": 9,
   "id": "f6e1c269",
   "metadata": {},
   "outputs": [
    {
     "name": "stdout",
     "output_type": "stream",
     "text": [
      "✅ Environment detected: CUDA available\n"
     ]
    }
   ],
   "source": [
    "import gc\n",
    "import json\n",
    "import math\n",
    "from dataclasses import dataclass\n",
    "from pathlib import Path\n",
    "from typing import Dict, List, Tuple\n",
    "\n",
    "import matplotlib.pyplot as plt\n",
    "import numpy as np\n",
    "import pandas as pd\n",
    "import torch\n",
    "import yaml\n",
    "from accelerate import Accelerator\n",
    "from datasets import Dataset, load_from_disk\n",
    "from sklearn.metrics import (\n",
    "    accuracy_score,\n",
    "    average_precision_score,\n",
    "    classification_report,\n",
    "    confusion_matrix,\n",
    "    f1_score,\n",
    "    precision_recall_curve,\n",
    "    precision_score,\n",
    "    recall_score,\n",
    "    roc_auc_score,\n",
    ")\n",
    "from torch.utils.data import DataLoader\n",
    "from transformers import (\n",
    "    AutoConfig,\n",
    "    AutoModelForMaskedLM,\n",
    "    AutoTokenizer,\n",
    "    DataCollatorForLanguageModeling,\n",
    "    get_scheduler,\n",
    ")\n",
    "from tqdm.auto import tqdm\n",
    "\n",
    "plt.style.use('seaborn-v0_8')\n",
    "plt.rcParams['figure.dpi'] = 120\n",
    "\n",
    "def set_seed(value: int) -> None:\n",
    "    torch.manual_seed(value)\n",
    "    np.random.seed(value)\n",
    "    if torch.cuda.is_available():\n",
    "        torch.cuda.manual_seed_all(value)\n",
    "\n",
    "set_seed(1337)\n",
    "print(f\"✅ Environment detected: {'CUDA' if torch.cuda.is_available() else 'CPU'} available\")"
   ]
  },
  {
   "cell_type": "code",
   "execution_count": 10,
   "id": "f2c2f7cf",
   "metadata": {},
   "outputs": [
    {
     "name": "stdout",
     "output_type": "stream",
     "text": [
      "Configurations loaded:\n",
      "  • Data config : artifacts/datasets\n",
      "  • Train config: artifacts/logbert-mlm-os\n"
     ]
    }
   ],
   "source": [
    "def load_yaml(path: Path) -> Dict:\n",
    "    with path.open('r') as fh:\n",
    "        return yaml.safe_load(fh)\n",
    "\n",
    "DATA_CFG = load_yaml(Path('../configs/data.yaml'))\n",
    "TRAIN_CFG = load_yaml(Path('../configs/train_openstack.yaml'))\n",
    "\n",
    "print('Configurations loaded:')\n",
    "print(f\"  • Data config : {DATA_CFG['preprocessing']['parquet_dir']}\")\n",
    "print(f\"  • Train config: {TRAIN_CFG['checkpointing']['output_dir']}\")"
   ]
  },
  {
   "cell_type": "code",
   "execution_count": 11,
   "id": "6f32d81e",
   "metadata": {},
   "outputs": [
    {
     "name": "stdout",
     "output_type": "stream",
     "text": [
      "Loaded OpenStack splits → train=166,256, val=20,782, test=20,782\n",
      "Replay sampling enabled; mixing HDFS data...\n",
      "Mixed 16,625 replay rows; new train size: 182,881\n",
      "Mixed 16,625 replay rows; new train size: 182,881\n"
     ]
    }
   ],
   "source": [
    "parquet_dir = Path(DATA_CFG['preprocessing']['parquet_dir'])\n",
    "seed = TRAIN_CFG['seed']\n",
    "set_seed(seed)\n",
    "\n",
    "train_ds = load_from_disk(str(parquet_dir / 'openstack_train_hf'))\n",
    "val_ds = load_from_disk(str(parquet_dir / 'openstack_val_hf'))\n",
    "test_ds = load_from_disk(str(parquet_dir / 'openstack_test_hf'))\n",
    "\n",
    "print(f\"Loaded OpenStack splits → train={len(train_ds):,}, val={len(val_ds):,}, test={len(test_ds):,}\")\n",
    "\n",
    "replay_cfg = TRAIN_CFG['replay']\n",
    "if replay_cfg['enabled']:\n",
    "    print('Replay sampling enabled; mixing HDFS data...')\n",
    "    hdfs_ds = load_from_disk(str(parquet_dir / 'hdfs_train_hf'))\n",
    "    replay_count = max(1, int(len(train_ds) * replay_cfg['ratio']))\n",
    "    replay_subset = hdfs_ds.shuffle(seed=seed).select(range(replay_count))\n",
    "\n",
    "    base_df = train_ds.to_pandas()\n",
    "    replay_df = replay_subset.to_pandas()\n",
    "\n",
    "    for col in base_df.columns:\n",
    "        if col not in replay_df.columns:\n",
    "            if col == 'anomaly_label':\n",
    "                replay_df[col] = 0\n",
    "            elif 'template_id' in col:\n",
    "                replay_df[col] = -1\n",
    "            else:\n",
    "                replay_df[col] = None\n",
    "\n",
    "    for col in replay_df.columns:\n",
    "        if col not in base_df.columns:\n",
    "            if col == 'anomaly_label':\n",
    "                base_df[col] = 0\n",
    "            elif 'template_id' in col:\n",
    "                base_df[col] = -1\n",
    "            else:\n",
    "                base_df[col] = None\n",
    "\n",
    "    template_cols = [c for c in base_df.columns if 'template_id' in c]\n",
    "    for col in template_cols:\n",
    "        base_df[col] = pd.to_numeric(base_df[col], errors='coerce').fillna(-1).astype('int64')\n",
    "        replay_df[col] = pd.to_numeric(replay_df[col], errors='coerce').fillna(-1).astype('int64')\n",
    "\n",
    "    replay_df = replay_df[base_df.columns]\n",
    "    mixed_df = pd.concat([base_df, replay_df], ignore_index=True)\n",
    "    mixed_df = mixed_df.sample(frac=1.0, random_state=seed).reset_index(drop=True)\n",
    "    train_ds = Dataset.from_pandas(mixed_df, preserve_index=False)\n",
    "    print(f\"Mixed {replay_count:,} replay rows; new train size: {len(train_ds):,}\")\n",
    "else:\n",
    "    print('Replay disabled; using OpenStack train split only.')"
   ]
  },
  {
   "cell_type": "code",
   "execution_count": 12,
   "id": "7ecbcf16",
   "metadata": {},
   "outputs": [
    {
     "name": "stderr",
     "output_type": "stream",
     "text": [
      "Special tokens have been added in the vocabulary, make sure the associated word embeddings are fine-tuned or trained.\n"
     ]
    },
    {
     "name": "stdout",
     "output_type": "stream",
     "text": [
      "Tokenizer loaded from artifacts/tokenizer (vocab size=30531)\n",
      "Loading pretrained DistilBERT checkpoint from artifacts/logbert-mlm-hdfs/step_epoch3_step800000\n",
      "Model parameters: 66,992,451\n"
     ]
    }
   ],
   "source": [
    "tokenizer_dir = Path(TRAIN_CFG['artifacts']['tokenizer_dir'])\n",
    "if not tokenizer_dir.exists():\n",
    "    raise FileNotFoundError(f'Tokenizer directory not found: {tokenizer_dir}')\n",
    "\n",
    "tokenizer = AutoTokenizer.from_pretrained(tokenizer_dir, use_fast=True)\n",
    "print(f\"Tokenizer loaded from {tokenizer_dir} (vocab size={len(tokenizer)})\")\n",
    "\n",
    "base_dir = Path(TRAIN_CFG['base_checkpoint_dir'])\n",
    "if not base_dir.exists():\n",
    "    raise FileNotFoundError(f'Base checkpoint directory missing: {base_dir}')\n",
    "\n",
    "candidates: List[Path] = []\n",
    "candidates.extend(sorted(base_dir.glob('epoch*/config.json')))\n",
    "candidates.extend(sorted(base_dir.glob('step*/config.json')))\n",
    "if not candidates:\n",
    "    raise FileNotFoundError(f'No checkpoint files discovered under {base_dir}')\n",
    "\n",
    "checkpoint_path = candidates[-1].parent\n",
    "print(f\"Loading pretrained DistilBERT checkpoint from {checkpoint_path}\")\n",
    "\n",
    "config = AutoConfig.from_pretrained(checkpoint_path)\n",
    "model = AutoModelForMaskedLM.from_pretrained(checkpoint_path, config=config)\n",
    "model.resize_token_embeddings(len(tokenizer))\n",
    "print(f\"Model parameters: {sum(p.numel() for p in model.parameters()):,}\")"
   ]
  },
  {
   "cell_type": "code",
   "execution_count": 13,
   "id": "56180de1",
   "metadata": {},
   "outputs": [
    {
     "name": "stdout",
     "output_type": "stream",
     "text": [
      "DataLoaders ready:\n",
      "  • train batches: 11,431\n",
      "  • val batches  : 650\n",
      "  • test batches : 650\n"
     ]
    }
   ],
   "source": [
    "MAX_LENGTH = int(TRAIN_CFG['sequence']['max_length'])\n",
    "MLM_PROB = float(TRAIN_CFG['sequence']['mlm_probability'])\n",
    "PAD_TO = int(TRAIN_CFG['sequence'].get('pad_to_multiple_of', 8))\n",
    "\n",
    "mlm_collator = DataCollatorForLanguageModeling(\n",
    "    tokenizer=tokenizer,\n",
    "    mlm=True,\n",
    "    mlm_probability=MLM_PROB,\n",
    "    pad_to_multiple_of=PAD_TO,\n",
    "    return_tensors='pt',\n",
    ")\n",
    "\n",
    "\n",
    "def _prepare_features(examples: List[Dict]) -> List[Dict]:\n",
    "    features: List[Dict] = []\n",
    "    for example in examples:\n",
    "        input_ids = example['input_ids'][:MAX_LENGTH]\n",
    "        attention_mask = example.get('attention_mask', [1] * len(input_ids))[:MAX_LENGTH]\n",
    "        features.append({'input_ids': input_ids, 'attention_mask': attention_mask})\n",
    "    return features\n",
    "\n",
    "\n",
    "def collate_train(examples: List[Dict]) -> Dict[str, torch.Tensor]:\n",
    "    features = _prepare_features(examples)\n",
    "    return mlm_collator(features)\n",
    "\n",
    "\n",
    "def collate_eval(examples: List[Dict]) -> Dict[str, torch.Tensor]:\n",
    "    labels = torch.tensor([e.get('anomaly_label', 0) for e in examples], dtype=torch.long)\n",
    "    features = _prepare_features(examples)\n",
    "    batch = mlm_collator(features)\n",
    "    batch['anomaly_label'] = labels\n",
    "    return batch\n",
    "\n",
    "train_loader = DataLoader(\n",
    "    train_ds,\n",
    "    batch_size=TRAIN_CFG['training']['train_batch_size_per_device'],\n",
    "    shuffle=True,\n",
    "    collate_fn=collate_train,\n",
    ")\n",
    "val_loader = DataLoader(\n",
    "    val_ds,\n",
    "    batch_size=TRAIN_CFG['training']['eval_batch_size_per_device'],\n",
    "    shuffle=False,\n",
    "    collate_fn=collate_eval,\n",
    ")\n",
    "test_loader = DataLoader(\n",
    "    test_ds,\n",
    "    batch_size=TRAIN_CFG['training']['eval_batch_size_per_device'],\n",
    "    shuffle=False,\n",
    "    collate_fn=collate_eval,\n",
    ")\n",
    "\n",
    "print('DataLoaders ready:')\n",
    "print(f\"  • train batches: {len(train_loader):,}\")\n",
    "print(f\"  • val batches  : {len(val_loader):,}\")\n",
    "print(f\"  • test batches : {len(test_loader):,}\")"
   ]
  },
  {
   "cell_type": "code",
   "execution_count": 14,
   "id": "279504e6",
   "metadata": {},
   "outputs": [
    {
     "name": "stdout",
     "output_type": "stream",
     "text": [
      "Accelerator configured.\n"
     ]
    }
   ],
   "source": [
    "training_cfg = TRAIN_CFG['training']\n",
    "optimizer_cfg = TRAIN_CFG['optimizer']\n",
    "checkpoint_dir = Path(TRAIN_CFG['checkpointing']['output_dir'])\n",
    "checkpoint_dir.mkdir(parents=True, exist_ok=True)\n",
    "\n",
    "max_grad_norm = float(training_cfg['max_grad_norm'])\n",
    "epochs = int(training_cfg['epochs'])\n",
    "patience = int(training_cfg['patience'])\n",
    "min_delta = float(training_cfg['min_delta'])\n",
    "log_every = int(training_cfg['log_every'])\n",
    "checkpoint_fraction = float(training_cfg['checkpoint_fraction'])\n",
    "\n",
    "num_update_steps_per_epoch = math.ceil(len(train_loader) / training_cfg['grad_accumulation_steps'])\n",
    "total_training_steps = num_update_steps_per_epoch * epochs\n",
    "\n",
    "optimizer = torch.optim.AdamW(\n",
    "    model.parameters(),\n",
    "    lr=float(optimizer_cfg['lr']),\n",
    "    betas=tuple(optimizer_cfg['betas']),\n",
    "    eps=float(optimizer_cfg['eps']),\n",
    "    weight_decay=float(optimizer_cfg['weight_decay']),\n",
    ")\n",
    "\n",
    "lr_scheduler = get_scheduler(\n",
    "    name=optimizer_cfg['scheduler'],\n",
    "    optimizer=optimizer,\n",
    "    num_warmup_steps=int(optimizer_cfg['warmup_steps']),\n",
    "    num_training_steps=total_training_steps,\n",
    ")\n",
    "\n",
    "accelerator = Accelerator(\n",
    "    gradient_accumulation_steps=training_cfg['grad_accumulation_steps'],\n",
    "    mixed_precision=TRAIN_CFG['precision']['mixed_precision'] if torch.cuda.is_available() else 'no',\n",
    ")\n",
    "model, optimizer, train_loader, lr_scheduler = accelerator.prepare(\n",
    "    model, optimizer, train_loader, lr_scheduler\n",
    ")\n",
    "\n",
    "def free_cuda() -> None:\n",
    "    if torch.cuda.is_available():\n",
    "        torch.cuda.empty_cache()\n",
    "    gc.collect()\n",
    "\n",
    "print('Accelerator configured.')"
   ]
  },
  {
   "cell_type": "code",
   "execution_count": 15,
   "id": "6d35f7f2",
   "metadata": {},
   "outputs": [],
   "source": [
    "def mean_mlm_loss(model: AutoModelForMaskedLM, dataloader: DataLoader) -> float:\n",
    "    model.eval()\n",
    "    losses: List[float] = []\n",
    "    with torch.no_grad():\n",
    "        for batch in dataloader:\n",
    "            batch = {k: v.to(accelerator.device) if isinstance(v, torch.Tensor) else v for k, v in batch.items()}\n",
    "            batch.pop('anomaly_label', None)\n",
    "            loss = model(**batch).loss.detach().float()\n",
    "            losses.append(loss.cpu().item())\n",
    "    model.train()\n",
    "    return float(np.mean(losses)) if losses else 0.0\n",
    "\n",
    "\n",
    "def collect_sample_losses(model: AutoModelForMaskedLM, dataloader: DataLoader) -> Tuple[np.ndarray, np.ndarray]:\n",
    "    model.eval()\n",
    "    sample_losses: List[float] = []\n",
    "    labels: List[int] = []\n",
    "    loss_fct = torch.nn.CrossEntropyLoss(reduction='none', ignore_index=-100)\n",
    "\n",
    "    with torch.no_grad():\n",
    "        for batch in dataloader:\n",
    "            labels.extend(batch['anomaly_label'].tolist())\n",
    "            inputs = {k: v.to(accelerator.device) for k, v in batch.items() if k != 'anomaly_label'}\n",
    "            outputs = model(**inputs)\n",
    "            logits = outputs.logits\n",
    "            mlm_labels = inputs['labels']\n",
    "\n",
    "            token_loss = loss_fct(logits.view(-1, logits.size(-1)), mlm_labels.view(-1))\n",
    "            token_loss = token_loss.view(logits.size(0), -1)\n",
    "            mask = (mlm_labels != -100)\n",
    "\n",
    "            for tl, m in zip(token_loss, mask):\n",
    "                if m.any():\n",
    "                    sample_losses.append(tl[m].mean().item())\n",
    "                else:\n",
    "                    sample_losses.append(0.0)\n",
    "    model.train()\n",
    "    return np.array(sample_losses), np.array(labels)\n",
    "\n",
    "\n",
    "def sweep_threshold(losses: np.ndarray, labels: np.ndarray, metric: str = 'f1') -> Tuple[float, pd.DataFrame]:\n",
    "    percentiles = np.linspace(60, 99.5, 80)\n",
    "    thresholds = np.unique(np.percentile(losses, percentiles))\n",
    "\n",
    "    records: List[Dict[str, float]] = []\n",
    "    best_threshold = thresholds[0]\n",
    "    best_score = -np.inf\n",
    "\n",
    "    for threshold in thresholds:\n",
    "        preds = (losses >= threshold).astype(int)\n",
    "        record = {\n",
    "            'threshold': float(threshold),\n",
    "            'accuracy': accuracy_score(labels, preds),\n",
    "            'precision': precision_score(labels, preds, zero_division=0),\n",
    "            'recall': recall_score(labels, preds, zero_division=0),\n",
    "            'f1': f1_score(labels, preds, zero_division=0),\n",
    "        }\n",
    "        records.append(record)\n",
    "        if record[metric] > best_score:\n",
    "            best_score = record[metric]\n",
    "            best_threshold = float(threshold)\n",
    "\n",
    "    return best_threshold, pd.DataFrame(records)\n",
    "\n",
    "\n",
    "def classification_metrics(losses: np.ndarray, labels: np.ndarray, threshold: float) -> Dict[str, float]:\n",
    "    preds = (losses >= threshold).astype(int)\n",
    "    cm = confusion_matrix(labels, preds)\n",
    "    tn, fp, fn, tp = cm.ravel()\n",
    "    metrics = {\n",
    "        'threshold': threshold,\n",
    "        'accuracy': accuracy_score(labels, preds),\n",
    "        'precision': precision_score(labels, preds, zero_division=0),\n",
    "        'recall': recall_score(labels, preds, zero_division=0),\n",
    "        'f1': f1_score(labels, preds, zero_division=0),\n",
    "        'roc_auc': roc_auc_score(labels, losses),\n",
    "        'average_precision': average_precision_score(labels, losses),\n",
    "        'tn': int(tn),\n",
    "        'fp': int(fp),\n",
    "        'fn': int(fn),\n",
    "        'tp': int(tp),\n",
    "    }\n",
    "    return metrics"
   ]
  },
  {
   "cell_type": "code",
   "execution_count": 16,
   "id": "395bb561",
   "metadata": {},
   "outputs": [
    {
     "name": "stdout",
     "output_type": "stream",
     "text": [
      "🚀 Starting fine-tuning loop...\n"
     ]
    },
    {
     "data": {
      "application/vnd.jupyter.widget-view+json": {
       "model_id": "24baae01eb3a4b7f844d869af68c6d65",
       "version_major": 2,
       "version_minor": 0
      },
      "text/plain": [
       "Epoch 1:   0%|          | 0/11431 [00:00<?, ?it/s]"
      ]
     },
     "metadata": {},
     "output_type": "display_data"
    },
    {
     "name": "stdout",
     "output_type": "stream",
     "text": [
      "[2025-09-29 21:00:58,944] [INFO] [real_accelerator.py:161:get_accelerator] Setting ds_accelerator to cuda (auto detect)\n",
      "Epoch 1: train_loss=1.0058, val_loss=0.0535\n",
      "✅ Best checkpoint updated\n"
     ]
    },
    {
     "data": {
      "application/vnd.jupyter.widget-view+json": {
       "model_id": "1c01de27175d41b8ba8c5864dbe4782b",
       "version_major": 2,
       "version_minor": 0
      },
      "text/plain": [
       "Epoch 2:   0%|          | 0/11431 [00:00<?, ?it/s]"
      ]
     },
     "metadata": {},
     "output_type": "display_data"
    },
    {
     "name": "stdout",
     "output_type": "stream",
     "text": [
      "Epoch 2: train_loss=0.0766, val_loss=0.0393\n",
      "✅ Best checkpoint updated\n"
     ]
    },
    {
     "data": {
      "application/vnd.jupyter.widget-view+json": {
       "model_id": "89e13213f971495b807c2184585e354b",
       "version_major": 2,
       "version_minor": 0
      },
      "text/plain": [
       "Epoch 3:   0%|          | 0/11431 [00:00<?, ?it/s]"
      ]
     },
     "metadata": {},
     "output_type": "display_data"
    },
    {
     "name": "stdout",
     "output_type": "stream",
     "text": [
      "Epoch 3: train_loss=0.0659, val_loss=0.0344\n",
      "✅ Best checkpoint updated\n"
     ]
    },
    {
     "data": {
      "application/vnd.jupyter.widget-view+json": {
       "model_id": "e0e7a7995ac64cc6a5b5893599c15586",
       "version_major": 2,
       "version_minor": 0
      },
      "text/plain": [
       "Epoch 4:   0%|          | 0/11431 [00:00<?, ?it/s]"
      ]
     },
     "metadata": {},
     "output_type": "display_data"
    },
    {
     "name": "stdout",
     "output_type": "stream",
     "text": [
      "Epoch 4: train_loss=0.0625, val_loss=0.0335\n",
      "✅ Best checkpoint updated\n"
     ]
    },
    {
     "data": {
      "application/vnd.jupyter.widget-view+json": {
       "model_id": "8e67e2b450fa450fadcd51d9e6e40e83",
       "version_major": 2,
       "version_minor": 0
      },
      "text/plain": [
       "Epoch 5:   0%|          | 0/11431 [00:00<?, ?it/s]"
      ]
     },
     "metadata": {},
     "output_type": "display_data"
    },
    {
     "name": "stdout",
     "output_type": "stream",
     "text": [
      "Epoch 5: train_loss=0.0614, val_loss=0.0333\n",
      "⏳ Early-stopping patience 1/2\n",
      "Reloaded best checkpoint from artifacts/logbert-mlm-os/best\n"
     ]
    },
    {
     "data": {
      "text/html": [
       "<div>\n",
       "<style scoped>\n",
       "    .dataframe tbody tr th:only-of-type {\n",
       "        vertical-align: middle;\n",
       "    }\n",
       "\n",
       "    .dataframe tbody tr th {\n",
       "        vertical-align: top;\n",
       "    }\n",
       "\n",
       "    .dataframe thead th {\n",
       "        text-align: right;\n",
       "    }\n",
       "</style>\n",
       "<table border=\"1\" class=\"dataframe\">\n",
       "  <thead>\n",
       "    <tr style=\"text-align: right;\">\n",
       "      <th></th>\n",
       "      <th>epoch</th>\n",
       "      <th>train_loss</th>\n",
       "      <th>val_loss</th>\n",
       "    </tr>\n",
       "  </thead>\n",
       "  <tbody>\n",
       "    <tr>\n",
       "      <th>0</th>\n",
       "      <td>1</td>\n",
       "      <td>1.005753</td>\n",
       "      <td>0.053524</td>\n",
       "    </tr>\n",
       "    <tr>\n",
       "      <th>1</th>\n",
       "      <td>2</td>\n",
       "      <td>0.076590</td>\n",
       "      <td>0.039275</td>\n",
       "    </tr>\n",
       "    <tr>\n",
       "      <th>2</th>\n",
       "      <td>3</td>\n",
       "      <td>0.065869</td>\n",
       "      <td>0.034363</td>\n",
       "    </tr>\n",
       "    <tr>\n",
       "      <th>3</th>\n",
       "      <td>4</td>\n",
       "      <td>0.062460</td>\n",
       "      <td>0.033460</td>\n",
       "    </tr>\n",
       "    <tr>\n",
       "      <th>4</th>\n",
       "      <td>5</td>\n",
       "      <td>0.061406</td>\n",
       "      <td>0.033305</td>\n",
       "    </tr>\n",
       "  </tbody>\n",
       "</table>\n",
       "</div>"
      ],
      "text/plain": [
       "   epoch  train_loss  val_loss\n",
       "0      1    1.005753  0.053524\n",
       "1      2    0.076590  0.039275\n",
       "2      3    0.065869  0.034363\n",
       "3      4    0.062460  0.033460\n",
       "4      5    0.061406  0.033305"
      ]
     },
     "metadata": {},
     "output_type": "display_data"
    }
   ],
   "source": [
    "history: List[Dict[str, float]] = []\n",
    "best_val = float('inf')\n",
    "wait = 0\n",
    "best_checkpoint_path = checkpoint_dir / 'best'\n",
    "checkpoint_interval = max(1, int(len(train_loader) * checkpoint_fraction))\n",
    "\n",
    "print('🚀 Starting fine-tuning loop...')\n",
    "for epoch in range(1, epochs + 1):\n",
    "    model.train()\n",
    "    running_losses: List[float] = []\n",
    "    progress = tqdm(total=len(train_loader), desc=f'Epoch {epoch}', disable=not accelerator.is_local_main_process)\n",
    "\n",
    "    for step, batch in enumerate(train_loader, start=1):\n",
    "        with accelerator.accumulate(model):\n",
    "            outputs = model(**batch)\n",
    "            loss = outputs.loss\n",
    "            accelerator.backward(loss)\n",
    "\n",
    "            if accelerator.sync_gradients:\n",
    "                accelerator.clip_grad_norm_(model.parameters(), max_grad_norm)\n",
    "\n",
    "            optimizer.step()\n",
    "            lr_scheduler.step()\n",
    "            optimizer.zero_grad()\n",
    "\n",
    "        running_losses.append(loss.detach().float().item())\n",
    "\n",
    "        if accelerator.is_main_process and step % log_every == 0:\n",
    "            progress.set_postfix(loss=np.mean(running_losses[-log_every:]), lr=lr_scheduler.get_last_lr()[0])\n",
    "        progress.update(1)\n",
    "\n",
    "        if accelerator.is_main_process and checkpoint_interval and step % checkpoint_interval == 0:\n",
    "            ckpt_dir = checkpoint_dir / f'epoch{epoch}_step{step}'\n",
    "            ckpt_dir.mkdir(parents=True, exist_ok=True)\n",
    "            accelerator.unwrap_model(model).save_pretrained(ckpt_dir)\n",
    "            tokenizer.save_pretrained(ckpt_dir / 'tokenizer')\n",
    "\n",
    "    progress.close()\n",
    "    train_loss = float(np.mean(running_losses)) if running_losses else 0.0\n",
    "\n",
    "    val_loss = mean_mlm_loss(accelerator.unwrap_model(model), val_loader)\n",
    "    history.append({'epoch': epoch, 'train_loss': train_loss, 'val_loss': val_loss})\n",
    "    if accelerator.is_main_process:\n",
    "        print(f\"Epoch {epoch}: train_loss={train_loss:.4f}, val_loss={val_loss:.4f}\")\n",
    "\n",
    "    if val_loss + min_delta < best_val:\n",
    "        wait = 0\n",
    "        best_val = val_loss\n",
    "        if accelerator.is_main_process:\n",
    "            best_checkpoint_path.mkdir(parents=True, exist_ok=True)\n",
    "            accelerator.unwrap_model(model).save_pretrained(best_checkpoint_path)\n",
    "            tokenizer.save_pretrained(best_checkpoint_path / 'tokenizer')\n",
    "            print('✅ Best checkpoint updated')\n",
    "    else:\n",
    "        wait += 1\n",
    "        if accelerator.is_main_process:\n",
    "            print(f'⏳ Early-stopping patience {wait}/{patience}')\n",
    "        if wait >= patience:\n",
    "            if accelerator.is_main_process:\n",
    "                print('🛑 Early stopping triggered')\n",
    "            break\n",
    "\n",
    "accelerator.wait_for_everyone()\n",
    "free_cuda()\n",
    "\n",
    "if best_checkpoint_path.exists():\n",
    "    model = AutoModelForMaskedLM.from_pretrained(best_checkpoint_path, config=config)\n",
    "    model.resize_token_embeddings(len(tokenizer))\n",
    "    model = model.to(accelerator.device)\n",
    "    print(f\"Reloaded best checkpoint from {best_checkpoint_path}\")\n",
    "else:\n",
    "    model = accelerator.unwrap_model(model)\n",
    "\n",
    "history_df = pd.DataFrame(history)\n",
    "display(history_df)"
   ]
  },
  {
   "cell_type": "code",
   "execution_count": 17,
   "id": "4b08389f",
   "metadata": {},
   "outputs": [
    {
     "name": "stdout",
     "output_type": "stream",
     "text": [
      "Validation-derived threshold: 0.0000\n",
      "Saved threshold sweep to artifacts/metrics/openstack/openstack_threshold_sweep.csv\n",
      "Validation metrics:\n"
     ]
    },
    {
     "data": {
      "text/html": [
       "<div>\n",
       "<style scoped>\n",
       "    .dataframe tbody tr th:only-of-type {\n",
       "        vertical-align: middle;\n",
       "    }\n",
       "\n",
       "    .dataframe tbody tr th {\n",
       "        vertical-align: top;\n",
       "    }\n",
       "\n",
       "    .dataframe thead th {\n",
       "        text-align: right;\n",
       "    }\n",
       "</style>\n",
       "<table border=\"1\" class=\"dataframe\">\n",
       "  <thead>\n",
       "    <tr style=\"text-align: right;\">\n",
       "      <th></th>\n",
       "      <th>accuracy</th>\n",
       "      <th>precision</th>\n",
       "      <th>recall</th>\n",
       "      <th>f1</th>\n",
       "      <th>roc_auc</th>\n",
       "      <th>average_precision</th>\n",
       "      <th>tn</th>\n",
       "      <th>fp</th>\n",
       "      <th>fn</th>\n",
       "      <th>tp</th>\n",
       "    </tr>\n",
       "    <tr>\n",
       "      <th>threshold</th>\n",
       "      <th></th>\n",
       "      <th></th>\n",
       "      <th></th>\n",
       "      <th></th>\n",
       "      <th></th>\n",
       "      <th></th>\n",
       "      <th></th>\n",
       "      <th></th>\n",
       "      <th></th>\n",
       "      <th></th>\n",
       "    </tr>\n",
       "  </thead>\n",
       "  <tbody>\n",
       "    <tr>\n",
       "      <th>0.000027</th>\n",
       "      <td>0.600857</td>\n",
       "      <td>0.111993</td>\n",
       "      <td>0.504881</td>\n",
       "      <td>0.183322</td>\n",
       "      <td>0.595478</td>\n",
       "      <td>0.109857</td>\n",
       "      <td>11556</td>\n",
       "      <td>7382</td>\n",
       "      <td>913</td>\n",
       "      <td>931</td>\n",
       "    </tr>\n",
       "  </tbody>\n",
       "</table>\n",
       "</div>"
      ],
      "text/plain": [
       "           accuracy  precision    recall        f1   roc_auc  \\\n",
       "threshold                                                      \n",
       "0.000027   0.600857   0.111993  0.504881  0.183322  0.595478   \n",
       "\n",
       "           average_precision     tn    fp   fn   tp  \n",
       "threshold                                            \n",
       "0.000027            0.109857  11556  7382  913  931  "
      ]
     },
     "metadata": {},
     "output_type": "display_data"
    },
    {
     "name": "stdout",
     "output_type": "stream",
     "text": [
      "Scoring test set...\n"
     ]
    },
    {
     "data": {
      "text/html": [
       "<div>\n",
       "<style scoped>\n",
       "    .dataframe tbody tr th:only-of-type {\n",
       "        vertical-align: middle;\n",
       "    }\n",
       "\n",
       "    .dataframe tbody tr th {\n",
       "        vertical-align: top;\n",
       "    }\n",
       "\n",
       "    .dataframe thead th {\n",
       "        text-align: right;\n",
       "    }\n",
       "</style>\n",
       "<table border=\"1\" class=\"dataframe\">\n",
       "  <thead>\n",
       "    <tr style=\"text-align: right;\">\n",
       "      <th></th>\n",
       "      <th>accuracy</th>\n",
       "      <th>precision</th>\n",
       "      <th>recall</th>\n",
       "      <th>f1</th>\n",
       "      <th>roc_auc</th>\n",
       "      <th>average_precision</th>\n",
       "      <th>tn</th>\n",
       "      <th>fp</th>\n",
       "      <th>fn</th>\n",
       "      <th>tp</th>\n",
       "    </tr>\n",
       "    <tr>\n",
       "      <th>threshold</th>\n",
       "      <th></th>\n",
       "      <th></th>\n",
       "      <th></th>\n",
       "      <th></th>\n",
       "      <th></th>\n",
       "      <th></th>\n",
       "      <th></th>\n",
       "      <th></th>\n",
       "      <th></th>\n",
       "      <th></th>\n",
       "    </tr>\n",
       "  </thead>\n",
       "  <tbody>\n",
       "    <tr>\n",
       "      <th>0.000027</th>\n",
       "      <td>0.594553</td>\n",
       "      <td>0.111806</td>\n",
       "      <td>0.514379</td>\n",
       "      <td>0.183685</td>\n",
       "      <td>0.599977</td>\n",
       "      <td>0.112138</td>\n",
       "      <td>11408</td>\n",
       "      <td>7531</td>\n",
       "      <td>895</td>\n",
       "      <td>948</td>\n",
       "    </tr>\n",
       "  </tbody>\n",
       "</table>\n",
       "</div>"
      ],
      "text/plain": [
       "           accuracy  precision    recall        f1   roc_auc  \\\n",
       "threshold                                                      \n",
       "0.000027   0.594553   0.111806  0.514379  0.183685  0.599977   \n",
       "\n",
       "           average_precision     tn    fp   fn   tp  \n",
       "threshold                                            \n",
       "0.000027            0.112138  11408  7531  895  948  "
      ]
     },
     "metadata": {},
     "output_type": "display_data"
    },
    {
     "name": "stdout",
     "output_type": "stream",
     "text": [
      "              precision    recall  f1-score   support\n",
      "\n",
      "      Normal       0.93      0.60      0.73     18939\n",
      "     Anomaly       0.11      0.51      0.18      1843\n",
      "\n",
      "    accuracy                           0.59     20782\n",
      "   macro avg       0.52      0.56      0.46     20782\n",
      "weighted avg       0.85      0.59      0.68     20782\n",
      "\n",
      "Metrics saved to artifacts/metrics/openstack/openstack_finetune_metrics.json\n"
     ]
    }
   ],
   "source": [
    "val_losses, val_labels = collect_sample_losses(model, val_loader)\n",
    "threshold, sweep_df = sweep_threshold(val_losses, val_labels, metric='f1')\n",
    "print(f\"Validation-derived threshold: {threshold:.4f}\")\n",
    "\n",
    "trained_threshold = threshold\n",
    "\n",
    "metrics_dir = Path(TRAIN_CFG['artifacts']['metrics_dir'])\n",
    "metrics_dir.mkdir(parents=True, exist_ok=True)\n",
    "\n",
    "sweep_path = metrics_dir / 'openstack_threshold_sweep.csv'\n",
    "sweep_df.to_csv(sweep_path, index=False)\n",
    "print(f\"Saved threshold sweep to {sweep_path}\")\n",
    "\n",
    "val_metrics = classification_metrics(val_losses, val_labels, threshold)\n",
    "print('Validation metrics:')\n",
    "display(pd.DataFrame([val_metrics]).set_index('threshold'))\n",
    "\n",
    "print('Scoring test set...')\n",
    "test_losses, test_labels = collect_sample_losses(model, test_loader)\n",
    "test_metrics = classification_metrics(test_losses, test_labels, threshold)\n",
    "display(pd.DataFrame([test_metrics]).set_index('threshold'))\n",
    "\n",
    "report_text = classification_report(test_labels, (test_losses >= threshold).astype(int), target_names=['Normal', 'Anomaly'], zero_division=0)\n",
    "print(report_text)\n",
    "\n",
    "metrics_payload = {\n",
    "    'validation': val_metrics,\n",
    "    'test': test_metrics,\n",
    "    'threshold': threshold,\n",
    "    'history': history,\n",
    "}\n",
    "metrics_path = metrics_dir / 'openstack_finetune_metrics.json'\n",
    "metrics_path.write_text(json.dumps(metrics_payload, indent=2))\n",
    "print(f\"Metrics saved to {metrics_path}\")"
   ]
  },
  {
   "cell_type": "code",
   "execution_count": 18,
   "id": "faaed853",
   "metadata": {},
   "outputs": [
    {
     "data": {
      "image/png": "[encoded data removed]",
      "text/plain": [
       "<Figure size 2160x480 with 3 Axes>"
      ]
     },
     "metadata": {},
     "output_type": "display_data"
    },
    {
     "name": "stdout",
     "output_type": "stream",
     "text": [
      "Diagnostic plot saved to artifacts/eval/openstack_finetune_diagnostics.png\n"
     ]
    }
   ],
   "source": [
    "fig, axes = plt.subplots(1, 3, figsize=(18, 4))\n",
    "\n",
    "if not history_df.empty:\n",
    "    axes[0].plot(history_df['epoch'], history_df['train_loss'], label='Train')\n",
    "    axes[0].plot(history_df['epoch'], history_df['val_loss'], label='Val')\n",
    "    axes[0].set_xlabel('Epoch')\n",
    "    axes[0].set_ylabel('MLM loss')\n",
    "    axes[0].set_title('Training history')\n",
    "    axes[0].legend()\n",
    "else:\n",
    "    axes[0].axis('off')\n",
    "\n",
    "axes[1].hist(val_losses, bins=40, alpha=0.7, label='Validation', color='#1f77b4', density=True)\n",
    "axes[1].hist(test_losses, bins=40, alpha=0.7, label='Test', color='#ff7f0e', density=True)\n",
    "axes[1].axvline(threshold, color='black', linestyle='--', label=f'Threshold {threshold:.2f}')\n",
    "axes[1].set_title('Loss distribution')\n",
    "axes[1].set_xlabel('Per-sample MLM loss')\n",
    "axes[1].legend()\n",
    "\n",
    "precision_curve, recall_curve, pr_thresholds = precision_recall_curve(test_labels, test_losses)\n",
    "axes[2].plot(recall_curve, precision_curve, color='#2ca02c', lw=2)\n",
    "axes[2].set_title(f'Precision-Recall (AP={average_precision_score(test_labels, test_losses):.3f})')\n",
    "axes[2].set_xlabel('Recall')\n",
    "axes[2].set_ylabel('Precision')\n",
    "axes[2].grid(True, alpha=0.3)\n",
    "\n",
    "fig.tight_layout()\n",
    "plot_path = Path(TRAIN_CFG['artifacts']['eval_dir']) / 'openstack_finetune_diagnostics.png'\n",
    "plot_path.parent.mkdir(parents=True, exist_ok=True)\n",
    "fig.savefig(plot_path, dpi=300, bbox_inches='tight')\n",
    "plt.show()\n",
    "print(f'Diagnostic plot saved to {plot_path}')"
   ]
  },
  {
   "cell_type": "code",
   "execution_count": 19,
   "id": "1cb86288",
   "metadata": {},
   "outputs": [
    {
     "name": "stdout",
     "output_type": "stream",
     "text": [
      "Run configuration persisted to artifacts/logbert-mlm-os/run_config.json\n"
     ]
    }
   ],
   "source": [
    "run_config = {\n",
    "    'best_checkpoint': str(best_checkpoint_path.resolve()),\n",
    "    'threshold': threshold,\n",
    "    'training_history': history,\n",
    "    'train_samples': len(train_ds),\n",
    "    'val_samples': len(val_ds),\n",
    "    'test_samples': len(test_ds),\n",
    "    'config': TRAIN_CFG,\n",
    "}\n",
    "run_config_path = Path(TRAIN_CFG['artifacts']['run_config_path'])\n",
    "run_config_path.parent.mkdir(parents=True, exist_ok=True)\n",
    "run_config_path.write_text(json.dumps(run_config, indent=2))\n",
    "print(f\"Run configuration persisted to {run_config_path}\")"
   ]
  },
  {
   "cell_type": "markdown",
   "id": "0e44cc74",
   "metadata": {},
   "source": [
    "## Summary\n",
    "\n",
    "- Fine-tuned the DistilBERT MLM on OpenStack logs with optional HDFS replay, using cosine decay and early stopping.\n",
    "- Derived an anomaly threshold from validation losses and evaluated the resulting detector on the held-out test split.\n",
    "- Saved checkpoints, metrics, and diagnostics under `artifacts/`, ready for downstream inference notebooks or deployment."
   ]
  },
  {
   "cell_type": "markdown",
   "id": "e992d6b7",
   "metadata": {},
   "source": []
  }
 ],
 "metadata": {
  "kernelspec": {
   "display_name": "log_anomaly",
   "language": "python",
   "name": "python3"
  },
  "language_info": {
   "codemirror_mode": {
    "name": "ipython",
    "version": 3
   },
   "file_extension": ".py",
   "mimetype": "text/x-python",
   "name": "python",
   "nbconvert_exporter": "python",
   "pygments_lexer": "ipython3",
   "version": "3.11.11"
  }
 },
 "nbformat": 4,
 "nbformat_minor": 5
}
